{
 "cells": [
  {
   "cell_type": "markdown",
   "id": "f50e7191",
   "metadata": {},
   "source": [
    "# Numpy"
   ]
  },
  {
   "cell_type": "code",
   "execution_count": 12,
   "id": "08d2915e",
   "metadata": {},
   "outputs": [],
   "source": [
    "import numpy as np"
   ]
  },
  {
   "cell_type": "code",
   "execution_count": 13,
   "id": "cbea6336",
   "metadata": {},
   "outputs": [],
   "source": [
    "myarr = np.array([4, 2, 14, 2])"
   ]
  },
  {
   "cell_type": "code",
   "execution_count": 14,
   "id": "eb7b8c25",
   "metadata": {},
   "outputs": [
    {
     "data": {
      "text/plain": [
       "array([ 4,  2, 14,  2])"
      ]
     },
     "execution_count": 14,
     "metadata": {},
     "output_type": "execute_result"
    }
   ],
   "source": [
    "myarr"
   ]
  },
  {
   "cell_type": "code",
   "execution_count": 15,
   "id": "f8c06433",
   "metadata": {},
   "outputs": [
    {
     "data": {
      "text/plain": [
       "dtype('int32')"
      ]
     },
     "execution_count": 15,
     "metadata": {},
     "output_type": "execute_result"
    }
   ],
   "source": [
    "myarr.dtype"
   ]
  },
  {
   "cell_type": "markdown",
   "id": "52a40fb8",
   "metadata": {},
   "source": [
    "## Array creation"
   ]
  },
  {
   "cell_type": "code",
   "execution_count": 16,
   "id": "fe01e9d1",
   "metadata": {},
   "outputs": [],
   "source": [
    "listarray = np.array([[4,3,5], [2,6,33],[2, 2, 9]])"
   ]
  },
  {
   "cell_type": "code",
   "execution_count": 17,
   "id": "2b29d7a5",
   "metadata": {},
   "outputs": [
    {
     "data": {
      "text/plain": [
       "array([[ 4,  3,  5],\n",
       "       [ 2,  6, 33],\n",
       "       [ 2,  2,  9]])"
      ]
     },
     "execution_count": 17,
     "metadata": {},
     "output_type": "execute_result"
    }
   ],
   "source": [
    "listarray"
   ]
  },
  {
   "cell_type": "code",
   "execution_count": 18,
   "id": "0b5e6e6b",
   "metadata": {},
   "outputs": [
    {
     "data": {
      "text/plain": [
       "(3, 3)"
      ]
     },
     "execution_count": 18,
     "metadata": {},
     "output_type": "execute_result"
    }
   ],
   "source": [
    "listarray.shape"
   ]
  },
  {
   "cell_type": "code",
   "execution_count": 19,
   "id": "b07aafec",
   "metadata": {
    "scrolled": true
   },
   "outputs": [
    {
     "data": {
      "text/plain": [
       "9"
      ]
     },
     "execution_count": 19,
     "metadata": {},
     "output_type": "execute_result"
    }
   ],
   "source": [
    "listarray.size"
   ]
  },
  {
   "cell_type": "markdown",
   "id": "fdb87114",
   "metadata": {},
   "source": [
    "### np.zeros()"
   ]
  },
  {
   "cell_type": "code",
   "execution_count": 29,
   "id": "8b499e6b",
   "metadata": {},
   "outputs": [
    {
     "data": {
      "text/plain": [
       "array([0., 0., 0., 0., 0.])"
      ]
     },
     "execution_count": 29,
     "metadata": {},
     "output_type": "execute_result"
    }
   ],
   "source": [
    "np.zeros(5)"
   ]
  },
  {
   "cell_type": "code",
   "execution_count": 20,
   "id": "4b93bf9c",
   "metadata": {},
   "outputs": [
    {
     "data": {
      "text/plain": [
       "array([[0., 0., 0., 0.],\n",
       "       [0., 0., 0., 0.]])"
      ]
     },
     "execution_count": 20,
     "metadata": {},
     "output_type": "execute_result"
    }
   ],
   "source": [
    "zeros = np.zeros((2,4))\n",
    "zeros"
   ]
  },
  {
   "cell_type": "code",
   "execution_count": 30,
   "id": "efcf7261",
   "metadata": {},
   "outputs": [
    {
     "data": {
      "text/plain": [
       "array([[0, 0, 0],\n",
       "       [0, 0, 0]])"
      ]
     },
     "execution_count": 30,
     "metadata": {},
     "output_type": "execute_result"
    }
   ],
   "source": [
    "np.zeros((2,3), int)"
   ]
  },
  {
   "cell_type": "markdown",
   "id": "0048be51",
   "metadata": {},
   "source": [
    "### np.ones()"
   ]
  },
  {
   "cell_type": "code",
   "execution_count": 33,
   "id": "d50fb43a",
   "metadata": {},
   "outputs": [
    {
     "data": {
      "text/plain": [
       "array([[1., 1., 1.],\n",
       "       [1., 1., 1.]])"
      ]
     },
     "execution_count": 33,
     "metadata": {},
     "output_type": "execute_result"
    }
   ],
   "source": [
    "np.ones((2,3))"
   ]
  },
  {
   "cell_type": "markdown",
   "id": "60871337",
   "metadata": {},
   "source": [
    "### np.arange()"
   ]
  },
  {
   "cell_type": "code",
   "execution_count": 21,
   "id": "91adda8e",
   "metadata": {},
   "outputs": [
    {
     "data": {
      "text/plain": [
       "array([ 0,  1,  2,  3,  4,  5,  6,  7,  8,  9, 10, 11, 12])"
      ]
     },
     "execution_count": 21,
     "metadata": {},
     "output_type": "execute_result"
    }
   ],
   "source": [
    "rng = np.arange(13)\n",
    "rng"
   ]
  },
  {
   "cell_type": "markdown",
   "id": "1ac51c03",
   "metadata": {},
   "source": [
    "- by default starts from zero. 13 is not included"
   ]
  },
  {
   "cell_type": "code",
   "execution_count": 28,
   "id": "e0601943",
   "metadata": {},
   "outputs": [
    {
     "data": {
      "text/plain": [
       "array([ 4,  5,  6,  7,  8,  9, 10, 11, 12, 13, 14, 15, 16, 17, 18, 19])"
      ]
     },
     "execution_count": 28,
     "metadata": {},
     "output_type": "execute_result"
    }
   ],
   "source": [
    "b = np.arange(4,20)\n",
    "b"
   ]
  },
  {
   "cell_type": "markdown",
   "id": "64054c89",
   "metadata": {},
   "source": [
    "- 4 : start number\n",
    "- 20 : end number (not included)"
   ]
  },
  {
   "cell_type": "code",
   "execution_count": 31,
   "id": "576bf256",
   "metadata": {},
   "outputs": [
    {
     "data": {
      "text/plain": [
       "array([ 3,  6,  9, 12, 15, 18])"
      ]
     },
     "execution_count": 31,
     "metadata": {},
     "output_type": "execute_result"
    }
   ],
   "source": [
    "np.arange(3,20,3)"
   ]
  },
  {
   "cell_type": "markdown",
   "id": "674a9d6e",
   "metadata": {},
   "source": [
    "- 3 : start number\n",
    "- 20 : end number (not included)\n",
    "- 3 : common difference"
   ]
  },
  {
   "cell_type": "markdown",
   "id": "43e51d4c",
   "metadata": {},
   "source": [
    "### np.linspace()"
   ]
  },
  {
   "cell_type": "code",
   "execution_count": 22,
   "id": "58ebb484",
   "metadata": {},
   "outputs": [
    {
     "data": {
      "text/plain": [
       "array([ 1.        ,  6.44444444, 11.88888889, 17.33333333, 22.77777778,\n",
       "       28.22222222, 33.66666667, 39.11111111, 44.55555556, 50.        ])"
      ]
     },
     "execution_count": 22,
     "metadata": {},
     "output_type": "execute_result"
    }
   ],
   "source": [
    "lspace = np.linspace(1, 50, 10)\n",
    "lspace"
   ]
  },
  {
   "cell_type": "markdown",
   "id": "37e580ca",
   "metadata": {},
   "source": [
    "- 1 : start number\n",
    "- 50 : end number\n",
    "- 10 : no of elements\n",
    "- equally spaced numbers"
   ]
  },
  {
   "cell_type": "markdown",
   "id": "c75ecbcc",
   "metadata": {},
   "source": [
    "### np.empty()"
   ]
  },
  {
   "cell_type": "code",
   "execution_count": 32,
   "id": "60686af6",
   "metadata": {
    "scrolled": false
   },
   "outputs": [
    {
     "data": {
      "text/plain": [
       "array([[6.23042070e-307, 4.67296746e-307, 1.69121096e-306,\n",
       "        1.27945906e-307],\n",
       "       [1.89146896e-307, 7.56571288e-307, 3.11525958e-307,\n",
       "        1.24610723e-306]])"
      ]
     },
     "execution_count": 32,
     "metadata": {},
     "output_type": "execute_result"
    }
   ],
   "source": [
    "emp = np.empty((2,4))\n",
    "emp"
   ]
  },
  {
   "cell_type": "markdown",
   "id": "718c44b8",
   "metadata": {},
   "source": [
    "- random uninitialized values"
   ]
  },
  {
   "cell_type": "markdown",
   "id": "efcc5728",
   "metadata": {},
   "source": [
    "### np.eye()"
   ]
  },
  {
   "cell_type": "code",
   "execution_count": 36,
   "id": "c35d74c2",
   "metadata": {},
   "outputs": [
    {
     "data": {
      "text/plain": [
       "array([[1., 0., 0.],\n",
       "       [0., 1., 0.],\n",
       "       [0., 0., 1.]])"
      ]
     },
     "execution_count": 36,
     "metadata": {},
     "output_type": "execute_result"
    }
   ],
   "source": [
    "np.eye(3)"
   ]
  },
  {
   "cell_type": "markdown",
   "id": "1e61ebd7",
   "metadata": {},
   "source": [
    "- identity matrix"
   ]
  },
  {
   "cell_type": "markdown",
   "id": "83d8c2ed",
   "metadata": {},
   "source": [
    "### np.identity()"
   ]
  },
  {
   "cell_type": "code",
   "execution_count": 34,
   "id": "9d6b4337",
   "metadata": {},
   "outputs": [
    {
     "data": {
      "text/plain": [
       "array([[1., 0., 0., 0.],\n",
       "       [0., 1., 0., 0.],\n",
       "       [0., 0., 1., 0.],\n",
       "       [0., 0., 0., 1.]])"
      ]
     },
     "execution_count": 34,
     "metadata": {},
     "output_type": "execute_result"
    }
   ],
   "source": [
    "np.identity(4)"
   ]
  },
  {
   "cell_type": "markdown",
   "id": "8fb5ed33",
   "metadata": {},
   "source": [
    "- identity matrix"
   ]
  },
  {
   "cell_type": "markdown",
   "id": "503d12b3",
   "metadata": {},
   "source": [
    "### np.random()"
   ]
  },
  {
   "cell_type": "code",
   "execution_count": 38,
   "id": "20054b5f",
   "metadata": {},
   "outputs": [
    {
     "data": {
      "text/plain": [
       "array([[0.5654853 , 0.62935978, 0.49053486, 0.98037661, 0.81759374],\n",
       "       [0.06398444, 0.9811496 , 0.5139895 , 0.33052281, 0.98091328],\n",
       "       [0.32324969, 0.31814398, 0.44875338, 0.58431104, 0.65909145]])"
      ]
     },
     "execution_count": 38,
     "metadata": {},
     "output_type": "execute_result"
    }
   ],
   "source": [
    "np.random.rand(3,5)"
   ]
  },
  {
   "cell_type": "markdown",
   "id": "66b046cd",
   "metadata": {},
   "source": [
    "- it generates random number form uniform distribution (between 0 and 1)"
   ]
  },
  {
   "cell_type": "code",
   "execution_count": 43,
   "id": "c256d799",
   "metadata": {
    "scrolled": true
   },
   "outputs": [
    {
     "data": {
      "text/plain": [
       "array([[-0.22063292,  1.73725383,  1.85114409,  0.56396053],\n",
       "       [ 0.76296186, -1.05281224, -1.22535844,  0.56594412],\n",
       "       [-0.43223329,  0.0468747 , -0.88099922, -0.22214235]])"
      ]
     },
     "execution_count": 43,
     "metadata": {},
     "output_type": "execute_result"
    }
   ],
   "source": [
    "np.random.randn(3,4)"
   ]
  },
  {
   "cell_type": "markdown",
   "id": "2263a3d8",
   "metadata": {},
   "source": [
    "-  It generates a random number from the standard normal distribution (also known as the Gaussian distribution)"
   ]
  },
  {
   "cell_type": "code",
   "execution_count": 57,
   "id": "15a9e82a",
   "metadata": {},
   "outputs": [
    {
     "data": {
      "text/plain": [
       "11"
      ]
     },
     "execution_count": 57,
     "metadata": {},
     "output_type": "execute_result"
    }
   ],
   "source": [
    "np.random.randint(10,20)"
   ]
  },
  {
   "cell_type": "markdown",
   "id": "51494a33",
   "metadata": {},
   "source": [
    "- random integer in [10,20)\n",
    "- 20 is not included"
   ]
  },
  {
   "cell_type": "code",
   "execution_count": 58,
   "id": "1d0a13cf",
   "metadata": {},
   "outputs": [
    {
     "data": {
      "text/plain": [
       "array([16, 17, 17, 29, 29, 22, 16, 21, 22, 20, 22, 24, 25, 24, 17, 29, 30,\n",
       "       31, 15, 15, 12, 16, 29, 12, 21, 11, 26, 24, 15, 17, 15, 13, 17, 27,\n",
       "       23, 19, 16, 11, 17, 26, 13, 26, 29, 11, 27, 18, 13, 11, 25, 10])"
      ]
     },
     "execution_count": 58,
     "metadata": {},
     "output_type": "execute_result"
    }
   ],
   "source": [
    "np.random.randint(10,32,50)"
   ]
  },
  {
   "cell_type": "markdown",
   "id": "4b51faa4",
   "metadata": {},
   "source": [
    "- 10 : lower bound\n",
    "- 32 : upper bound (not included)\n",
    "- 50 : size"
   ]
  },
  {
   "cell_type": "markdown",
   "id": "c52e763f",
   "metadata": {},
   "source": [
    "## Some functions and methods"
   ]
  },
  {
   "cell_type": "code",
   "execution_count": 115,
   "id": "e096256f",
   "metadata": {},
   "outputs": [
    {
     "data": {
      "text/plain": [
       "array([32, 42, 83, 26, 18, 80, 28, 22, 90, 94, 93, 98,  1, 17, 31, 65, 28,\n",
       "       91, 63, 45])"
      ]
     },
     "execution_count": 115,
     "metadata": {},
     "output_type": "execute_result"
    }
   ],
   "source": [
    "arr = np.random.randint(0,100,20)\n",
    "arr"
   ]
  },
  {
   "cell_type": "code",
   "execution_count": 116,
   "id": "b612061c",
   "metadata": {
    "scrolled": true
   },
   "outputs": [
    {
     "data": {
      "text/plain": [
       "array([[32, 42, 83, 26],\n",
       "       [18, 80, 28, 22],\n",
       "       [90, 94, 93, 98],\n",
       "       [ 1, 17, 31, 65],\n",
       "       [28, 91, 63, 45]])"
      ]
     },
     "execution_count": 116,
     "metadata": {},
     "output_type": "execute_result"
    }
   ],
   "source": [
    "arr.reshape(5,4)"
   ]
  },
  {
   "cell_type": "markdown",
   "id": "c72a8f92",
   "metadata": {},
   "source": [
    "- size of arr is 20, so in <font color=orange>arr.reshape(a,b)</font>, $a*b$ should be 20. Otherwise it will through an error."
   ]
  },
  {
   "cell_type": "code",
   "execution_count": 117,
   "id": "66c02d96",
   "metadata": {},
   "outputs": [
    {
     "data": {
      "text/plain": [
       "1"
      ]
     },
     "execution_count": 117,
     "metadata": {},
     "output_type": "execute_result"
    }
   ],
   "source": [
    "arr.min()"
   ]
  },
  {
   "cell_type": "code",
   "execution_count": 118,
   "id": "6118a9af",
   "metadata": {},
   "outputs": [
    {
     "data": {
      "text/plain": [
       "12"
      ]
     },
     "execution_count": 118,
     "metadata": {},
     "output_type": "execute_result"
    }
   ],
   "source": [
    "arr.argmin()"
   ]
  },
  {
   "cell_type": "markdown",
   "id": "2ca0ac23",
   "metadata": {},
   "source": [
    "- it gives index of minimun value"
   ]
  },
  {
   "cell_type": "code",
   "execution_count": 119,
   "id": "e169e9cf",
   "metadata": {},
   "outputs": [
    {
     "data": {
      "text/plain": [
       "98"
      ]
     },
     "execution_count": 119,
     "metadata": {},
     "output_type": "execute_result"
    }
   ],
   "source": [
    "arr.max()"
   ]
  },
  {
   "cell_type": "code",
   "execution_count": 120,
   "id": "1f6417ff",
   "metadata": {},
   "outputs": [
    {
     "data": {
      "text/plain": [
       "11"
      ]
     },
     "execution_count": 120,
     "metadata": {},
     "output_type": "execute_result"
    }
   ],
   "source": [
    "arr.argmax()"
   ]
  },
  {
   "cell_type": "markdown",
   "id": "6420da83",
   "metadata": {},
   "source": [
    "- it gives index of maximum value"
   ]
  },
  {
   "cell_type": "code",
   "execution_count": 121,
   "id": "ac7c9ba5",
   "metadata": {},
   "outputs": [
    {
     "data": {
      "text/plain": [
       "array([12, 13,  4,  7,  3, 16,  6, 14,  0,  1, 19, 18, 15,  5,  2,  8, 17,\n",
       "       10,  9, 11], dtype=int64)"
      ]
     },
     "execution_count": 121,
     "metadata": {},
     "output_type": "execute_result"
    }
   ],
   "source": [
    "arr.argsort()"
   ]
  },
  {
   "cell_type": "code",
   "execution_count": 68,
   "id": "69588538",
   "metadata": {},
   "outputs": [
    {
     "data": {
      "text/plain": [
       "dtype('int32')"
      ]
     },
     "execution_count": 68,
     "metadata": {},
     "output_type": "execute_result"
    }
   ],
   "source": [
    "arr.dtype"
   ]
  },
  {
   "cell_type": "code",
   "execution_count": 70,
   "id": "7b589d93",
   "metadata": {},
   "outputs": [
    {
     "data": {
      "text/plain": [
       "array([[1., 0., 0., 0., 0.],\n",
       "       [0., 1., 0., 0., 0.],\n",
       "       [0., 0., 1., 0., 0.],\n",
       "       [0., 0., 0., 1., 0.],\n",
       "       [0., 0., 0., 0., 1.]])"
      ]
     },
     "execution_count": 70,
     "metadata": {},
     "output_type": "execute_result"
    }
   ],
   "source": [
    "arr2 = np.eye(5)\n",
    "arr2"
   ]
  },
  {
   "cell_type": "code",
   "execution_count": 72,
   "id": "027b11c2",
   "metadata": {},
   "outputs": [
    {
     "data": {
      "text/plain": [
       "array([[1., 0., 0., 0., 0.],\n",
       "       [0., 1., 0., 0., 0.],\n",
       "       [0., 0., 1., 0., 0.],\n",
       "       [0., 0., 0., 1., 0.],\n",
       "       [0., 0., 0., 0., 1.]])"
      ]
     },
     "execution_count": 72,
     "metadata": {},
     "output_type": "execute_result"
    }
   ],
   "source": [
    "arr2.T"
   ]
  },
  {
   "cell_type": "markdown",
   "id": "e0c48a1b",
   "metadata": {},
   "source": [
    "- <font color=orange>arr2.T</font> gives transpose of arr2"
   ]
  },
  {
   "cell_type": "code",
   "execution_count": 73,
   "id": "ca392c37",
   "metadata": {},
   "outputs": [
    {
     "data": {
      "text/plain": [
       "array([[0.96357352, 0.40999179, 0.35889557],\n",
       "       [0.61998824, 0.69904961, 0.54917697]])"
      ]
     },
     "execution_count": 73,
     "metadata": {},
     "output_type": "execute_result"
    }
   ],
   "source": [
    "arr3 = np.random.rand(2,3)\n",
    "arr3"
   ]
  },
  {
   "cell_type": "code",
   "execution_count": 74,
   "id": "cd59ae26",
   "metadata": {},
   "outputs": [
    {
     "data": {
      "text/plain": [
       "array([[0.96357352, 0.61998824],\n",
       "       [0.40999179, 0.69904961],\n",
       "       [0.35889557, 0.54917697]])"
      ]
     },
     "execution_count": 74,
     "metadata": {},
     "output_type": "execute_result"
    }
   ],
   "source": [
    "arr3.T"
   ]
  },
  {
   "cell_type": "code",
   "execution_count": 108,
   "id": "be221794",
   "metadata": {},
   "outputs": [
    {
     "data": {
      "text/plain": [
       "array([0.96357352, 0.40999179, 0.35889557, 0.61998824, 0.69904961,\n",
       "       0.54917697])"
      ]
     },
     "execution_count": 108,
     "metadata": {},
     "output_type": "execute_result"
    }
   ],
   "source": [
    "arr3.ravel()"
   ]
  },
  {
   "cell_type": "markdown",
   "id": "71c1e41d",
   "metadata": {},
   "source": [
    "- converts an array to a 1D array"
   ]
  },
  {
   "cell_type": "markdown",
   "id": "3340c6c1",
   "metadata": {},
   "source": [
    "## Examples"
   ]
  },
  {
   "cell_type": "code",
   "execution_count": 75,
   "id": "f0c7a524",
   "metadata": {},
   "outputs": [
    {
     "data": {
      "text/plain": [
       "array([ 5,  6,  7,  8,  9, 10, 11, 12, 13, 14, 15, 16, 17, 18, 19, 20, 21,\n",
       "       22, 23, 24])"
      ]
     },
     "execution_count": 75,
     "metadata": {},
     "output_type": "execute_result"
    }
   ],
   "source": [
    "arr4 = np.arange(5,25)\n",
    "arr4"
   ]
  },
  {
   "cell_type": "code",
   "execution_count": 76,
   "id": "fd8867e8",
   "metadata": {},
   "outputs": [
    {
     "data": {
      "text/plain": [
       "21"
      ]
     },
     "execution_count": 76,
     "metadata": {},
     "output_type": "execute_result"
    }
   ],
   "source": [
    "arr4[-4]"
   ]
  },
  {
   "cell_type": "code",
   "execution_count": 77,
   "id": "02508244",
   "metadata": {},
   "outputs": [
    {
     "data": {
      "text/plain": [
       "array([ 9, 10, 11, 12, 13])"
      ]
     },
     "execution_count": 77,
     "metadata": {},
     "output_type": "execute_result"
    }
   ],
   "source": [
    "arr4[4:9]"
   ]
  },
  {
   "cell_type": "markdown",
   "id": "850cb204",
   "metadata": {},
   "source": [
    "- it slices _arr4_ from 4th index to 8th index, 9th index is not included"
   ]
  },
  {
   "cell_type": "code",
   "execution_count": 79,
   "id": "8d2dd105",
   "metadata": {},
   "outputs": [
    {
     "data": {
      "text/plain": [
       "array([  5,   6,   7,   8, 100, 100, 100, 100, 100,  14,  15,  16,  17,\n",
       "        18,  19,  20,  21,  22,  23,  24])"
      ]
     },
     "execution_count": 79,
     "metadata": {},
     "output_type": "execute_result"
    }
   ],
   "source": [
    "arr4[4:9] = 100\n",
    "arr4"
   ]
  },
  {
   "cell_type": "code",
   "execution_count": 81,
   "id": "79fd362d",
   "metadata": {},
   "outputs": [
    {
     "data": {
      "text/plain": [
       "array([99, 99, 99, 99, 99, 99, 99, 99, 99, 99, 99, 99, 99, 99, 99, 99, 99,\n",
       "       99, 99, 99])"
      ]
     },
     "execution_count": 81,
     "metadata": {},
     "output_type": "execute_result"
    }
   ],
   "source": [
    "arr4[:] = 99\n",
    "arr4"
   ]
  },
  {
   "cell_type": "markdown",
   "id": "d8af51ff",
   "metadata": {},
   "source": [
    "## Two-Dimensional Array"
   ]
  },
  {
   "cell_type": "code",
   "execution_count": 82,
   "id": "9a1f910f",
   "metadata": {},
   "outputs": [
    {
     "data": {
      "text/plain": [
       "array([[32, 41, 12, 32],\n",
       "       [ 2, 45, 67, 23],\n",
       "       [23, 43,  1, 99]])"
      ]
     },
     "execution_count": 82,
     "metadata": {},
     "output_type": "execute_result"
    }
   ],
   "source": [
    "matr = np.array(([32, 41, 12, 32], [2, 45, 67, 23], [23, 43, 1, 99]))\n",
    "matr"
   ]
  },
  {
   "cell_type": "code",
   "execution_count": 83,
   "id": "cef4cbf3",
   "metadata": {},
   "outputs": [
    {
     "data": {
      "text/plain": [
       "12"
      ]
     },
     "execution_count": 83,
     "metadata": {},
     "output_type": "execute_result"
    }
   ],
   "source": [
    "matr[0][2]"
   ]
  },
  {
   "cell_type": "markdown",
   "id": "3c7983c2",
   "metadata": {},
   "source": [
    "- 0 : row\n",
    "- 2 : column"
   ]
  },
  {
   "cell_type": "code",
   "execution_count": 84,
   "id": "5ec6e3dc",
   "metadata": {},
   "outputs": [
    {
     "data": {
      "text/plain": [
       "array([23, 43,  1, 99])"
      ]
     },
     "execution_count": 84,
     "metadata": {},
     "output_type": "execute_result"
    }
   ],
   "source": [
    "matr[2,:]"
   ]
  },
  {
   "cell_type": "markdown",
   "id": "2e4164a7",
   "metadata": {},
   "source": [
    "- 2 : row\n",
    "- colon stands for all. So here it is all column"
   ]
  },
  {
   "cell_type": "code",
   "execution_count": 86,
   "id": "8b2f806f",
   "metadata": {},
   "outputs": [
    {
     "data": {
      "text/plain": [
       "array([23, 43,  1, 99])"
      ]
     },
     "execution_count": 86,
     "metadata": {},
     "output_type": "execute_result"
    }
   ],
   "source": [
    "matr[2]"
   ]
  },
  {
   "cell_type": "code",
   "execution_count": 87,
   "id": "830cec0a",
   "metadata": {},
   "outputs": [
    {
     "data": {
      "text/plain": [
       "array([[32, 12],\n",
       "       [23, 67],\n",
       "       [99,  1]])"
      ]
     },
     "execution_count": 87,
     "metadata": {},
     "output_type": "execute_result"
    }
   ],
   "source": [
    "matr[:, (3,2)]"
   ]
  },
  {
   "cell_type": "code",
   "execution_count": 112,
   "id": "38c45a9d",
   "metadata": {},
   "outputs": [
    {
     "data": {
      "text/plain": [
       "2"
      ]
     },
     "execution_count": 112,
     "metadata": {},
     "output_type": "execute_result"
    }
   ],
   "source": [
    "matr.ndim # no of dimension"
   ]
  },
  {
   "cell_type": "code",
   "execution_count": 113,
   "id": "83540b59",
   "metadata": {},
   "outputs": [
    {
     "data": {
      "text/plain": [
       "48"
      ]
     },
     "execution_count": 113,
     "metadata": {},
     "output_type": "execute_result"
    }
   ],
   "source": [
    "matr.nbytes"
   ]
  },
  {
   "cell_type": "markdown",
   "id": "08954b6d",
   "metadata": {},
   "source": [
    "- all rows\n",
    "- 3rd and 1st index column"
   ]
  },
  {
   "cell_type": "markdown",
   "id": "4b11f003",
   "metadata": {},
   "source": [
    "## Selection techniques"
   ]
  },
  {
   "cell_type": "code",
   "execution_count": 88,
   "id": "6e254324",
   "metadata": {},
   "outputs": [
    {
     "data": {
      "text/plain": [
       "array([ 1,  2,  3,  4,  5,  6,  7,  8,  9, 10, 11, 12, 13, 14, 15, 16, 17,\n",
       "       18, 19])"
      ]
     },
     "execution_count": 88,
     "metadata": {},
     "output_type": "execute_result"
    }
   ],
   "source": [
    "arr5 = np.arange(1,20)\n",
    "arr5"
   ]
  },
  {
   "cell_type": "code",
   "execution_count": 89,
   "id": "5fd5778c",
   "metadata": {},
   "outputs": [
    {
     "data": {
      "text/plain": [
       "array([ 2,  4,  6,  8, 10, 12, 14, 16, 18, 20, 22, 24, 26, 28, 30, 32, 34,\n",
       "       36, 38])"
      ]
     },
     "execution_count": 89,
     "metadata": {},
     "output_type": "execute_result"
    }
   ],
   "source": [
    "arr5 + arr5"
   ]
  },
  {
   "cell_type": "code",
   "execution_count": 90,
   "id": "ed34e1e7",
   "metadata": {},
   "outputs": [
    {
     "data": {
      "text/plain": [
       "array([2.71828183e+00, 7.38905610e+00, 2.00855369e+01, 5.45981500e+01,\n",
       "       1.48413159e+02, 4.03428793e+02, 1.09663316e+03, 2.98095799e+03,\n",
       "       8.10308393e+03, 2.20264658e+04, 5.98741417e+04, 1.62754791e+05,\n",
       "       4.42413392e+05, 1.20260428e+06, 3.26901737e+06, 8.88611052e+06,\n",
       "       2.41549528e+07, 6.56599691e+07, 1.78482301e+08])"
      ]
     },
     "execution_count": 90,
     "metadata": {},
     "output_type": "execute_result"
    }
   ],
   "source": [
    "np.exp(arr5)"
   ]
  },
  {
   "cell_type": "markdown",
   "id": "d8c83e43",
   "metadata": {},
   "source": [
    "- exponential, that is $e^x$"
   ]
  },
  {
   "cell_type": "code",
   "execution_count": 91,
   "id": "18f7a7c0",
   "metadata": {},
   "outputs": [
    {
     "data": {
      "text/plain": [
       "array([1.        , 1.41421356, 1.73205081, 2.        , 2.23606798,\n",
       "       2.44948974, 2.64575131, 2.82842712, 3.        , 3.16227766,\n",
       "       3.31662479, 3.46410162, 3.60555128, 3.74165739, 3.87298335,\n",
       "       4.        , 4.12310563, 4.24264069, 4.35889894])"
      ]
     },
     "execution_count": 91,
     "metadata": {},
     "output_type": "execute_result"
    }
   ],
   "source": [
    "np.sqrt(arr5)"
   ]
  },
  {
   "cell_type": "code",
   "execution_count": 92,
   "id": "a078bcbb",
   "metadata": {},
   "outputs": [
    {
     "data": {
      "text/plain": [
       "array([0.        , 0.69314718, 1.09861229, 1.38629436, 1.60943791,\n",
       "       1.79175947, 1.94591015, 2.07944154, 2.19722458, 2.30258509,\n",
       "       2.39789527, 2.48490665, 2.56494936, 2.63905733, 2.7080502 ,\n",
       "       2.77258872, 2.83321334, 2.89037176, 2.94443898])"
      ]
     },
     "execution_count": 92,
     "metadata": {},
     "output_type": "execute_result"
    }
   ],
   "source": [
    "np.log(arr5)"
   ]
  },
  {
   "cell_type": "code",
   "execution_count": 93,
   "id": "a9bbbf87",
   "metadata": {},
   "outputs": [
    {
     "data": {
      "text/plain": [
       "1"
      ]
     },
     "execution_count": 93,
     "metadata": {},
     "output_type": "execute_result"
    }
   ],
   "source": [
    "np.min(arr5)"
   ]
  },
  {
   "cell_type": "code",
   "execution_count": 94,
   "id": "45744b4d",
   "metadata": {},
   "outputs": [
    {
     "data": {
      "text/plain": [
       "0"
      ]
     },
     "execution_count": 94,
     "metadata": {},
     "output_type": "execute_result"
    }
   ],
   "source": [
    "np.argmin(arr5)"
   ]
  },
  {
   "cell_type": "code",
   "execution_count": 96,
   "id": "f67e245c",
   "metadata": {},
   "outputs": [
    {
     "data": {
      "text/plain": [
       "19"
      ]
     },
     "execution_count": 96,
     "metadata": {},
     "output_type": "execute_result"
    }
   ],
   "source": [
    "np.max(arr5)"
   ]
  },
  {
   "cell_type": "code",
   "execution_count": 97,
   "id": "e43a7aca",
   "metadata": {},
   "outputs": [
    {
     "data": {
      "text/plain": [
       "18"
      ]
     },
     "execution_count": 97,
     "metadata": {},
     "output_type": "execute_result"
    }
   ],
   "source": [
    "np.argmax(arr5)"
   ]
  },
  {
   "cell_type": "code",
   "execution_count": 98,
   "id": "0f64b9c7",
   "metadata": {},
   "outputs": [
    {
     "data": {
      "text/plain": [
       "array([  1,   4,   9,  16,  25,  36,  49,  64,  81, 100, 121, 144, 169,\n",
       "       196, 225, 256, 289, 324, 361])"
      ]
     },
     "execution_count": 98,
     "metadata": {},
     "output_type": "execute_result"
    }
   ],
   "source": [
    "np.square(arr5)"
   ]
  },
  {
   "cell_type": "code",
   "execution_count": 99,
   "id": "567db367",
   "metadata": {},
   "outputs": [
    {
     "data": {
      "text/plain": [
       "5.477225575051661"
      ]
     },
     "execution_count": 99,
     "metadata": {},
     "output_type": "execute_result"
    }
   ],
   "source": [
    "np.std(arr5)"
   ]
  },
  {
   "cell_type": "code",
   "execution_count": 100,
   "id": "c0db0367",
   "metadata": {},
   "outputs": [
    {
     "data": {
      "text/plain": [
       "30.0"
      ]
     },
     "execution_count": 100,
     "metadata": {},
     "output_type": "execute_result"
    }
   ],
   "source": [
    "np.var(arr5)"
   ]
  },
  {
   "cell_type": "code",
   "execution_count": 102,
   "id": "6dbd9d89",
   "metadata": {},
   "outputs": [
    {
     "data": {
      "text/plain": [
       "10.0"
      ]
     },
     "execution_count": 102,
     "metadata": {},
     "output_type": "execute_result"
    }
   ],
   "source": [
    "np.mean(arr5)"
   ]
  },
  {
   "cell_type": "code",
   "execution_count": 103,
   "id": "b9dfe7e1",
   "metadata": {},
   "outputs": [
    {
     "data": {
      "text/plain": [
       "array([[ 0.04170211, -0.98041077,  0.43394012, -0.56713664],\n",
       "       [-0.13120636,  1.07112093,  1.32165448,  0.8244754 ],\n",
       "       [-1.28233444, -0.55901377,  1.6300761 ,  1.0190845 ]])"
      ]
     },
     "execution_count": 103,
     "metadata": {},
     "output_type": "execute_result"
    }
   ],
   "source": [
    "arr6 = np.random.randn(3,4)\n",
    "arr6"
   ]
  },
  {
   "cell_type": "code",
   "execution_count": 104,
   "id": "4deec3d9",
   "metadata": {},
   "outputs": [
    {
     "data": {
      "text/plain": [
       "array([[ 0.042, -0.98 ,  0.434, -0.567],\n",
       "       [-0.131,  1.071,  1.322,  0.824],\n",
       "       [-1.282, -0.559,  1.63 ,  1.019]])"
      ]
     },
     "execution_count": 104,
     "metadata": {},
     "output_type": "execute_result"
    }
   ],
   "source": [
    "np.round(arr6, 3)"
   ]
  },
  {
   "cell_type": "code",
   "execution_count": 106,
   "id": "31fa288a",
   "metadata": {},
   "outputs": [
    {
     "data": {
      "text/plain": [
       "array(['golf', 'cricket', 'football', 'cricket', 'football'], dtype='<U8')"
      ]
     },
     "execution_count": 106,
     "metadata": {},
     "output_type": "execute_result"
    }
   ],
   "source": [
    "sports = np.array(['golf', 'cricket', 'football', 'cricket', 'football'])\n",
    "sports"
   ]
  },
  {
   "cell_type": "code",
   "execution_count": 107,
   "id": "6cfc6621",
   "metadata": {},
   "outputs": [
    {
     "data": {
      "text/plain": [
       "array(['cricket', 'football', 'golf'], dtype='<U8')"
      ]
     },
     "execution_count": 107,
     "metadata": {},
     "output_type": "execute_result"
    }
   ],
   "source": [
    "np.unique(sports)"
   ]
  },
  {
   "cell_type": "markdown",
   "id": "bc7b2bc4",
   "metadata": {},
   "source": [
    "- Unique element\n",
    "- in <font color = orange> dtype='<U8'</font> , 8 is the length of longest value"
   ]
  }
 ],
 "metadata": {
  "kernelspec": {
   "display_name": "Python 3 (ipykernel)",
   "language": "python",
   "name": "python3"
  },
  "language_info": {
   "codemirror_mode": {
    "name": "ipython",
    "version": 3
   },
   "file_extension": ".py",
   "mimetype": "text/x-python",
   "name": "python",
   "nbconvert_exporter": "python",
   "pygments_lexer": "ipython3",
   "version": "3.11.1"
  }
 },
 "nbformat": 4,
 "nbformat_minor": 5
}
